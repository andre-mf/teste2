lista = ['andre', 'mf']

for i in lista:

    print (i)
